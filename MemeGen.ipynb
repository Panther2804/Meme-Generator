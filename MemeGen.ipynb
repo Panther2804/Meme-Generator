{
 "cells": [
  {
   "cell_type": "code",
   "execution_count": 1,
   "metadata": {},
   "outputs": [],
   "source": [
    "from PIL import Image, ImageDraw"
   ]
  },
  {
   "cell_type": "code",
   "execution_count": 2,
   "metadata": {},
   "outputs": [
    {
     "data": {
      "text/plain": [
       "('Memename',\n",
       " 'Templates/Drake-Comparison.jpg',\n",
       " {'Field_0': ((5, 362, 586, 565), (0, 0, 0), 40),\n",
       "  'Field_1': ((602, 3, 600, 590), (0, 0, 0), 40),\n",
       "  'Field_2': ((599, 601, 1200, 1199), (0, 0, 0), 40)},\n",
       " 'Fonts/sfont.otf')"
      ]
     },
     "execution_count": 2,
     "metadata": {},
     "output_type": "execute_result"
    }
   ],
   "source": [
    "drake = (\"Memename\",\"Templates/Drake-Comparison.jpg\",{ \n",
    "    \"Field_0\":((5,362,586,565),(0,0,0),40), \n",
    "    \"Field_1\":((602,3,600,590),(0,0,0),40), \n",
    "    \"Field_2\":((599,601,1200,1199),(0,0,0),40), } ,\"Fonts/sfont.otf\")\n",
    "memeinfo = drake\n",
    "drake"
   ]
  },
  {
   "cell_type": "code",
   "execution_count": 3,
   "metadata": {},
   "outputs": [],
   "source": [
    "im = Image.open(memeinfo[1])\n",
    "im = im.convert(\"RGB\")\n",
    "draw = ImageDraw.Draw(im)\n",
    "font = memeinfo[3]\n"
   ]
  },
  {
   "cell_type": "code",
   "execution_count": null,
   "metadata": {},
   "outputs": [],
   "source": []
  },
  {
   "cell_type": "code",
   "execution_count": null,
   "metadata": {},
   "outputs": [],
   "source": [
    "def wrap(image, text, fontpath, fontsize, x1, y1, x2, y2):\n",
    "    \n",
    "    \n",
    "wrap(\"\")"
   ]
  }
 ],
 "metadata": {
  "kernelspec": {
   "display_name": "Python 3",
   "language": "python",
   "name": "python3"
  },
  "language_info": {
   "codemirror_mode": {
    "name": "ipython",
    "version": 3
   },
   "file_extension": ".py",
   "mimetype": "text/x-python",
   "name": "python",
   "nbconvert_exporter": "python",
   "pygments_lexer": "ipython3",
   "version": "3.7.5"
  }
 },
 "nbformat": 4,
 "nbformat_minor": 2
}
