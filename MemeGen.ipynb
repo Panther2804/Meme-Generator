{
 "cells": [
  {
   "cell_type": "code",
   "execution_count": 2,
   "metadata": {},
   "outputs": [],
   "source": [
    "from PIL import Image, ImageDraw, ImageFont"
   ]
  },
  {
   "cell_type": "code",
   "execution_count": 3,
   "metadata": {},
   "outputs": [
    {
     "data": {
      "text/plain": [
       "('Memename',\n",
       " 'Templates/Drake-Comparison.jpg',\n",
       " {'Field_0': ((5, 362, 586, 565), (0, 0, 0), 40),\n",
       "  'Field_1': ((602, 3, 600, 590), (0, 0, 0), 40),\n",
       "  'Field_2': ((599, 601, 1200, 1199), (0, 0, 0), 40)},\n",
       " 'Fonts/sfont.otf')"
      ]
     },
     "execution_count": 3,
     "metadata": {},
     "output_type": "execute_result"
    }
   ],
   "source": [
    "drake = (\"Memename\",\"Templates/Drake-Comparison.jpg\",{ \n",
    "    \"Field_0\":((5,362,586,565),(0,0,0),40), \n",
    "    \"Field_1\":((602,3,600,590),(0,0,0),40), \n",
    "    \"Field_2\":((599,601,1200,1199),(0,0,0),40), } ,\"Fonts/sfont.otf\")\n",
    "memeinfo = drake\n",
    "drake"
   ]
  },
  {
   "cell_type": "code",
   "execution_count": 4,
   "metadata": {},
   "outputs": [],
   "source": [
    "im = Image.open(memeinfo[1])\n",
    "im = im.convert(\"RGB\")\n",
    "draw = ImageDraw.Draw(im)\n",
    "font = memeinfo[3]\n"
   ]
  },
  {
   "cell_type": "code",
   "execution_count": 5,
   "metadata": {},
   "outputs": [
    {
     "data": {
      "text/plain": [
       "<reversed at 0x7fd7802e7c90>"
      ]
     },
     "execution_count": 5,
     "metadata": {},
     "output_type": "execute_result"
    }
   ],
   "source": [
    "reversed(\"test\")"
   ]
  },
  {
   "cell_type": "code",
   "execution_count": 6,
   "metadata": {},
   "outputs": [
    {
     "name": "stdout",
     "output_type": "stream",
     "text": [
      "new end\n",
      "sym:\"i\"\n",
      "sym:\"e\"\n",
      "sym:\" \"\n",
      "S: ei\n",
      "Only appending , leaving  eihter Testsatz, mit dem ich teste.\n",
      "new end\n",
      "sym:\"e\"\n",
      "sym:\"T\"\n",
      "sym:\" \"\n",
      "S: Te\n",
      "Only appending , leaving  Tetz, mit dem ich teste.\n",
      "new end\n",
      "sym:\"t\"\n",
      "sym:\"i\"\n",
      "sym:\"m\"\n",
      "sym:\" \"\n",
      "S: mit\n",
      "Only appending , leaving  mit ich teste.\n",
      "['', '', '', ' mit ich teste.']\n",
      "Drawing @ x: 125.0 y: 188.0\n",
      "0\n",
      "Drawing @ x: 125.0 y: 188.0\n",
      "0\n",
      "Drawing @ x: 125.0 y: 188.0\n",
      "0\n",
      "Drawing @ x: 125.0 y: 188.0\n",
      "40\n"
     ]
    }
   ],
   "source": [
    "def wrap(imagedraw, text, fontpath, fontsize, fontcolor, x1, y1, x2, y2):\n",
    "    \n",
    "    font = ImageFont.truetype(fontpath, fontsize)\n",
    "    maxX = x2 - x1\n",
    "    maxY = y2 - y1\n",
    "    centerX = 0.5 * (x1 + x2)\n",
    "    centerY = 0.5 * (y1 + y2)\n",
    "    textXsize = 0\n",
    "    textYsize = 0\n",
    "    \n",
    "    textcopy = text\n",
    "    linetext = []\n",
    "    currentline = \"\"\n",
    "    \n",
    "    while textcopy != \"\":\n",
    "        \n",
    "        width, height = imagedraw.textsize(currentline + textcopy[-1] + \"-\",\n",
    "                                           font = font)\n",
    "        \n",
    "        if width > maxX:\n",
    "            s = \"\"\n",
    "            print(\"new end\")\n",
    "            for i in currentline[-5::-1]:\n",
    "                print('sym:\"' + i + '\"')\n",
    "                s += i\n",
    "                if i == \" \":\n",
    "                    textcopy = s[::-1] + textcopy\n",
    "                    print(\"S:\" + s[::-1])\n",
    "                    s = \"\"\n",
    "                    currentline = currentline[:-len(s)]\n",
    "                    break\n",
    "            print(\"Only appending \" + currentline + \", leaving \" + textcopy)     \n",
    "            \n",
    "            \n",
    "            if s == \"\":\n",
    "                linetext.append(currentline)\n",
    "            else:\n",
    "                linetext.append(currentline + \"-\")\n",
    "                \n",
    "                \n",
    "            currentline = \"\"\n",
    "            textYsize += height\n",
    "            \n",
    "            if height > maxY:\n",
    "                print(\"Well fuck\")\n",
    "            \n",
    "        else:\n",
    "            currentline += textcopy[0]\n",
    "            textcopy = textcopy[1:]\n",
    "            #print(textcopy)\n",
    "            \n",
    "    linetext.append(currentline)\n",
    "    currentline = \"\"\n",
    "            \n",
    "        \n",
    "    currentY = 0\n",
    "    xstart = centerX - 0.5 * maxX\n",
    "    ystart = centerY - 0.5 * textYsize\n",
    "    \n",
    "    print(str(linetext))\n",
    "    \n",
    "    for i in linetext:\n",
    "        print(\"Drawing @ x: \" + str(xstart) + \" y: \" + str(ystart))\n",
    "        draw.text((xstart,ystart), \".\" + i, font = font, fill = fontcolor)\n",
    "        ystart += imagedraw.textsize(i, font = font)[1]\n",
    "        print(imagedraw.textsize(i, font = font)[1])\n",
    "    \n",
    "\n",
    "im = Image.open(\"testtemplate.png\")\n",
    "im = im.convert(\"RGB\")\n",
    "draw = ImageDraw.Draw(im)\n",
    "font = memeinfo[3]\n",
    "\n",
    "    \n",
    "message = \"Das ist ein echter Testsatz, mit dem ich teste.\"  \n",
    "wrap(draw, message, font, 40, (0,0,0), 125, 125, 375, 375)\n",
    "im.save(\"text.png\")"
   ]
  },
  {
   "cell_type": "code",
   "execution_count": 7,
   "metadata": {},
   "outputs": [],
   "source": [
    "from PIL import Image, ImageDraw\n",
    "im = Image.new('RGB', (500, 500), color = (255,255,255)) \n",
    "draw = ImageDraw.Draw(im) \n",
    "draw.line((248,250, 252, 250), fill=(0,255,0), width=1) #middle cross\n",
    "draw.line((250,248, 250, 252), fill=(0,255,0), width=1)\n",
    "\n",
    "draw.line((0,0, 500, 0), fill=(0,0,0), width=1) #outer lines\n",
    "draw.line((0,0, 0, 500), fill=(0,0,0), width=1)\n",
    "draw.line((0,499, 499, 499), fill=(0,0,0), width=1)\n",
    "draw.line((499,0, 499, 499), fill=(0,0,0), width=1)\n",
    "\n",
    "\n",
    "draw.line((125,125, 375, 125), fill=(255,0,0), width=1) #inner lines\n",
    "draw.line((125,125, 125, 375), fill=(255,0,0), width=1)\n",
    "draw.line((375,125, 375, 375), fill=(255,0,0), width=1)\n",
    "draw.line((125,375, 375, 375), fill=(255,0,0), width=1)\n",
    "\n",
    "im.save(\"testtemplate.png\")"
   ]
  },
  {
   "cell_type": "code",
   "execution_count": 30,
   "metadata": {},
   "outputs": [],
   "source": [
    "im = Image.open(\"testtemplate.png\")\n",
    "draw = ImageDraw.Draw(im)\n",
    "\n",
    "maincolorT = (255,0,0)\n",
    "outlinecolorT = (0,0,255)\n",
    "message = \"The quick brown fox\"\n",
    "width = 2\n",
    "\n",
    "posX = 125\n",
    "posY = 125\n",
    "\n",
    "\n",
    "fontT = ImageFont.truetype(\"Fonts/sfont.otf\", 40)\n",
    "\n",
    "\n",
    "\n",
    "\n",
    "def TextOutline(ImDraw, text, posX, posY, maincolor, \n",
    "                outlinecolor, font, width):\n",
    "    draw.text((posX - width ,posY - width),\n",
    "              text, fill = outlinecolor, font = font)\n",
    "    \n",
    "    draw.text((posX + width, posY - width),\n",
    "              text, fill = outlinecolor, font = font)\n",
    "    \n",
    "    draw.text((posX - width, posY + width),\n",
    "              text, fill = outlinecolor, font = font)\n",
    "    \n",
    "    draw.text((posX + width, posY + width),\n",
    "              text, fill = outlinecolor, font = font)\n",
    "\n",
    "    \n",
    "    draw.text((posX,posY), \n",
    "              text, fill = maincolor, font = font)\n",
    "    \n",
    "TextOutline(draw, message, 125, 125, maincolorT, outlinecolorT, fontT, 1)\n",
    "\n",
    "im.save(\"Text.png\")"
   ]
  },
  {
   "cell_type": "code",
   "execution_count": null,
   "metadata": {},
   "outputs": [],
   "source": []
  }
 ],
 "metadata": {
  "kernelspec": {
   "display_name": "Python 3",
   "language": "python",
   "name": "python3"
  },
  "language_info": {
   "codemirror_mode": {
    "name": "ipython",
    "version": 3
   },
   "file_extension": ".py",
   "mimetype": "text/x-python",
   "name": "python",
   "nbconvert_exporter": "python",
   "pygments_lexer": "ipython3",
   "version": "3.7.5"
  }
 },
 "nbformat": 4,
 "nbformat_minor": 2
}
