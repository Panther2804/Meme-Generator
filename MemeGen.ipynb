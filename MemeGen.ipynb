{
 "cells": [
  {
   "cell_type": "code",
   "execution_count": 8,
   "metadata": {},
   "outputs": [],
   "source": [
    "from PIL import Image, ImageDraw, ImageFont"
   ]
  },
  {
   "cell_type": "code",
   "execution_count": 9,
   "metadata": {},
   "outputs": [
    {
     "data": {
      "text/plain": [
       "('Memename',\n",
       " 'Templates/Drake-Comparison.jpg',\n",
       " {'Field_0': ((5, 362, 586, 565), (0, 0, 0), 40),\n",
       "  'Field_1': ((602, 3, 600, 590), (0, 0, 0), 40),\n",
       "  'Field_2': ((599, 601, 1200, 1199), (0, 0, 0), 40)},\n",
       " 'Fonts/sfont.otf')"
      ]
     },
     "execution_count": 9,
     "metadata": {},
     "output_type": "execute_result"
    }
   ],
   "source": [
    "drake = (\"Memename\",\"Templates/Drake-Comparison.jpg\",{ \n",
    "    \"Field_0\":((5,362,586,565),(0,0,0),40), \n",
    "    \"Field_1\":((602,3,600,590),(0,0,0),40), \n",
    "    \"Field_2\":((599,601,1200,1199),(0,0,0),40), } ,\"Fonts/sfont.otf\")\n",
    "memeinfo = drake\n",
    "drake"
   ]
  },
  {
   "cell_type": "code",
   "execution_count": 10,
   "metadata": {},
   "outputs": [],
   "source": [
    "im = Image.open(memeinfo[1])\n",
    "im = im.convert(\"RGB\")\n",
    "draw = ImageDraw.Draw(im)\n",
    "font = memeinfo[3]\n"
   ]
  },
  {
   "cell_type": "code",
   "execution_count": 51,
   "metadata": {},
   "outputs": [
    {
     "data": {
      "text/plain": [
       "<reversed at 0x7fda05eed690>"
      ]
     },
     "execution_count": 51,
     "metadata": {},
     "output_type": "execute_result"
    }
   ],
   "source": [
    "reversed(\"test\")"
   ]
  },
  {
   "cell_type": "code",
   "execution_count": 61,
   "metadata": {},
   "outputs": [
    {
     "name": "stdout",
     "output_type": "stream",
     "text": [
      "new end\n",
      "sym:\"t\"\n",
      "sym:\"s\"\n",
      "sym:\"i\"\n",
      "sym:\" \"\n",
      "S: ist\n",
      "Only appending , leaving  ist echter Testsatz, mit dem ich teste.\n",
      "new end\n",
      "sym:\"h\"\n",
      "sym:\"c\"\n",
      "sym:\"e\"\n",
      "sym:\" \"\n",
      "S: ech\n",
      "Only appending , leaving  echTestsatz, mit dem ich teste.\n",
      "new end\n",
      "sym:\"e\"\n",
      "sym:\"T\"\n",
      "sym:\"h\"\n",
      "sym:\"c\"\n",
      "sym:\"e\"\n",
      "sym:\" \"\n",
      "S: echTe\n",
      "Only appending , leaving  echTetz, mit dem ich teste.\n",
      "new end\n",
      "sym:\"t\"\n",
      "sym:\"e\"\n",
      "sym:\"T\"\n",
      "sym:\"h\"\n",
      "sym:\"c\"\n",
      "sym:\"e\"\n",
      "sym:\" \"\n",
      "S: echTet\n",
      "Only appending , leaving  echTetit dem ich teste.\n",
      "new end\n",
      "sym:\"t\"\n",
      "sym:\"e\"\n",
      "sym:\"T\"\n",
      "sym:\"h\"\n",
      "sym:\"c\"\n",
      "sym:\"e\"\n",
      "sym:\" \"\n",
      "S: echTet\n",
      "Only appending , leaving  echTetem ich teste.\n",
      "new end\n",
      "sym:\"T\"\n",
      "sym:\"h\"\n",
      "sym:\"c\"\n",
      "sym:\"e\"\n",
      "sym:\" \"\n",
      "S: echT\n",
      "Only appending , leaving  echT ich teste.\n",
      "new end\n",
      "sym:\"i\"\n",
      "sym:\" \"\n",
      "S: i\n",
      "Only appending , leaving  ieste.\n",
      "['', '', '', '', '', '', '', ' ieste.']\n"
     ]
    }
   ],
   "source": [
    "def wrap(imagedraw, text, fontpath, fontsize, fontcolor, x1, y1, x2, y2):\n",
    "    \n",
    "    font = ImageFont.truetype(fontpath, fontsize)\n",
    "    maxX = x2 - x1\n",
    "    maxY = y2 - y1\n",
    "    centerX = 0.5 * (x1 + x2)\n",
    "    centerY = 0.5 * (y1 + y2)\n",
    "    textXsize = 0\n",
    "    textYsize = 0\n",
    "    \n",
    "    textcopy = text\n",
    "    linetext = []\n",
    "    currentline = \"\"\n",
    "    \n",
    "    while textcopy != \"\":\n",
    "        \n",
    "        width, height = imagedraw.textsize(currentline + textcopy[-1] + \"-\",\n",
    "                                           font = font)\n",
    "        \n",
    "        if width > maxX:\n",
    "            s = \"\"\n",
    "            print(\"new end\")\n",
    "            for i in currentline[-5::-1]:\n",
    "                print('sym:\"' + i + '\"')\n",
    "                s += i\n",
    "                if i == \" \":\n",
    "                    textcopy = s[::-1] + textcopy\n",
    "                    print(\"S:\" + s[::-1])\n",
    "                    s = \"\"\n",
    "                    currentline = currentline[:-len(s)]\n",
    "                    break\n",
    "            print(\"Only appending \" + currentline + \", leaving \" + textcopy)     \n",
    "            \n",
    "            \n",
    "            if s == \"\":\n",
    "                linetext.append(currentline)\n",
    "            else:\n",
    "                linetext.append(currentline + \"-\")\n",
    "                \n",
    "                \n",
    "            currentline = \"\"\n",
    "            textYsize += height\n",
    "            \n",
    "            if height > maxY:\n",
    "                print(\"Well fuck\")\n",
    "            \n",
    "        else:\n",
    "            currentline += textcopy[0]\n",
    "            textcopy = textcopy[1:]\n",
    "            #print(textcopy)\n",
    "            \n",
    "    linetext.append(currentline)\n",
    "    currentline = \"\"\n",
    "            \n",
    "        \n",
    "    currentY = 0\n",
    "    xstart = centerX - 0.5 * maxX\n",
    "    ystart = centerY - 0.5 * textYsize\n",
    "    \n",
    "    print(str(linetext))\n",
    "    \n",
    "    for i in linetext:\n",
    "        draw.text((xstart,ystart), i, font = font, fill = fontcolor)\n",
    "        ystart += imagedraw.textsize(i, font = font)[1]\n",
    "       \n",
    "    \n",
    "\n",
    "im = Image.open(memeinfo[1])\n",
    "im = im.convert(\"RGB\")\n",
    "draw = ImageDraw.Draw(im)\n",
    "font = memeinfo[3]\n",
    "\n",
    "    \n",
    "message = \"Das ist ein echter Testsatz, mit dem ich teste.\"  \n",
    "wrap(draw, message, font, 40, (0,0,0), 100, 100, 300, 300)\n",
    "im.save(\"text.png\")"
   ]
  },
  {
   "cell_type": "code",
   "execution_count": null,
   "metadata": {},
   "outputs": [],
   "source": []
  }
 ],
 "metadata": {
  "kernelspec": {
   "display_name": "Python 3",
   "language": "python",
   "name": "python3"
  },
  "language_info": {
   "codemirror_mode": {
    "name": "ipython",
    "version": 3
   },
   "file_extension": ".py",
   "mimetype": "text/x-python",
   "name": "python",
   "nbconvert_exporter": "python",
   "pygments_lexer": "ipython3",
   "version": "3.7.5"
  }
 },
 "nbformat": 4,
 "nbformat_minor": 2
}
